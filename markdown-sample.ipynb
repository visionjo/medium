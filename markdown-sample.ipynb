{
 "cells": [
  {
   "cell_type": "code",
   "execution_count": null,
   "id": "initial_id",
   "metadata": {
    "collapsed": true
   },
   "outputs": [],
   "source": [
    ""
   ]
  },
  {
   "metadata": {},
   "cell_type": "markdown",
   "source": [
    "#### Headers\n",
    "# Header 1 \n",
    "## Header 2\n",
    "\n",
    "#### Styles\n",
    "*Italic*, **bold**, _underscore_, ~~strikethrough~~\n",
    "\n",
    "#### Hyperlink\n",
    "[hyperlink](https://www.markdownguide.org/)\n",
    "\n",
    "#### Table\n",
    "| Default | Left-aligned | Center-aligned | Right-aligned |\n",
    "|---------|:-------------|:--------------:|--------------:|\n",
    "| Default | Left | Center | Right |\n",
    "\n",
    "#### Others\n",
    "* Bulleted item 1\n",
    "    * Bulleted subitem 1\n",
    "* Bulleted item 2\n",
    "\n",
    "***\n",
    "1. Ordered item 1  \n",
    "    1.1. Ordered subitem 1  \n",
    "2. Ordered item 2\n",
    "\n",
    "***\n",
    "- [ ] Unchecked box\n",
    "- [x] Checked box"
   ],
   "id": "1ccd12893427ca3c"
  },
  {
   "metadata": {},
   "cell_type": "markdown",
   "source": "$$\\mu$$",
   "id": "1bf8baef391318fa"
  },
  {
   "metadata": {},
   "cell_type": "code",
   "outputs": [],
   "execution_count": null,
   "source": "",
   "id": "6e1c47396de3b25f"
  }
 ],
 "metadata": {
  "kernelspec": {
   "display_name": "Python 3",
   "language": "python",
   "name": "python3"
  },
  "language_info": {
   "codemirror_mode": {
    "name": "ipython",
    "version": 2
   },
   "file_extension": ".py",
   "mimetype": "text/x-python",
   "name": "python",
   "nbconvert_exporter": "python",
   "pygments_lexer": "ipython2",
   "version": "2.7.6"
  }
 },
 "nbformat": 4,
 "nbformat_minor": 5
}
